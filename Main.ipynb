{
 "cells": [
  {
   "cell_type": "code",
   "execution_count": 1,
   "metadata": {
    "collapsed": true
   },
   "outputs": [],
   "source": [
    "import numpy as np\n",
    "import pandas as pd\n",
    "import datetime"
   ]
  },
  {
   "cell_type": "code",
   "execution_count": 2,
   "outputs": [],
   "source": [
    "dataDfraw = pd.read_csv('./Data/Bakery Sales.csv', sep=',')"
   ],
   "metadata": {
    "collapsed": false
   }
  },
  {
   "cell_type": "markdown",
   "source": [
    "### Drop place and day of week"
   ],
   "metadata": {
    "collapsed": false
   }
  },
  {
   "cell_type": "code",
   "execution_count": 3,
   "outputs": [],
   "source": [
    "dataDfraw.drop(['place', 'day of week'], axis=1, inplace=True)"
   ],
   "metadata": {
    "collapsed": false
   }
  },
  {
   "cell_type": "markdown",
   "source": [
    "### Drop nan value in datetime and total"
   ],
   "metadata": {
    "collapsed": false
   }
  },
  {
   "cell_type": "code",
   "execution_count": 4,
   "outputs": [],
   "source": [
    "dataDf = dataDfraw[dataDfraw['datetime'].notna() & dataDfraw['total'].notna()]\n",
    "dataDf.reset_index(drop=True, inplace=True)"
   ],
   "metadata": {
    "collapsed": false
   }
  },
  {
   "cell_type": "markdown",
   "source": [
    "### Astype Datetime format"
   ],
   "metadata": {
    "collapsed": false
   }
  },
  {
   "cell_type": "code",
   "execution_count": 5,
   "outputs": [
    {
     "name": "stderr",
     "output_type": "stream",
     "text": [
      "C:\\Users\\Overl\\AppData\\Local\\Temp\\ipykernel_9520\\2413786646.py:1: SettingWithCopyWarning: \n",
      "A value is trying to be set on a copy of a slice from a DataFrame.\n",
      "Try using .loc[row_indexer,col_indexer] = value instead\n",
      "\n",
      "See the caveats in the documentation: https://pandas.pydata.org/pandas-docs/stable/user_guide/indexing.html#returning-a-view-versus-a-copy\n",
      "  dataDf['datetime'] = pd.to_datetime(dataDf['datetime'], format='%Y-%m-%d')\n"
     ]
    },
    {
     "data": {
      "text/plain": "             datetime    total  angbutter  plain bread  jam  americano  \\\n0 2019-07-11 15:35:00  23800.0        1.0          NaN  NaN        1.0   \n1 2019-07-11 16:10:00  15800.0        1.0          NaN  NaN        NaN   \n2 2019-07-12 11:49:00  58000.0        NaN          NaN  NaN        NaN   \n3 2019-07-13 13:19:00  14800.0        1.0          1.0  NaN        NaN   \n4 2019-07-13 13:22:00  15600.0        2.0          NaN  NaN        NaN   \n\n   croissant  caffe latte  tiramisu croissant  cacao deep  ...  \\\n0        NaN          NaN                 3.0         NaN  ...   \n1        NaN          NaN                 1.0         NaN  ...   \n2        NaN          NaN                14.0         NaN  ...   \n3        NaN          NaN                 NaN         NaN  ...   \n4        NaN          NaN                 1.0         NaN  ...   \n\n   gateau chocolat  pandoro  cheese cake  lemon ade  orange pound  wiener  \\\n0              NaN      NaN          NaN        NaN           NaN     NaN   \n1              NaN      NaN          NaN        NaN           1.0     NaN   \n2              NaN      NaN          NaN        NaN           NaN     NaN   \n3              NaN      NaN          NaN        NaN           NaN     NaN   \n4              NaN      NaN          NaN        NaN           NaN     NaN   \n\n   vanila latte  berry ade  tiramisu  merinque cookies  \n0           1.0        NaN       NaN               NaN  \n1           NaN        NaN       NaN               NaN  \n2           NaN        NaN       NaN               NaN  \n3           1.0        NaN       NaN               NaN  \n4           NaN        NaN       NaN               NaN  \n\n[5 rows x 25 columns]",
      "text/html": "<div>\n<style scoped>\n    .dataframe tbody tr th:only-of-type {\n        vertical-align: middle;\n    }\n\n    .dataframe tbody tr th {\n        vertical-align: top;\n    }\n\n    .dataframe thead th {\n        text-align: right;\n    }\n</style>\n<table border=\"1\" class=\"dataframe\">\n  <thead>\n    <tr style=\"text-align: right;\">\n      <th></th>\n      <th>datetime</th>\n      <th>total</th>\n      <th>angbutter</th>\n      <th>plain bread</th>\n      <th>jam</th>\n      <th>americano</th>\n      <th>croissant</th>\n      <th>caffe latte</th>\n      <th>tiramisu croissant</th>\n      <th>cacao deep</th>\n      <th>...</th>\n      <th>gateau chocolat</th>\n      <th>pandoro</th>\n      <th>cheese cake</th>\n      <th>lemon ade</th>\n      <th>orange pound</th>\n      <th>wiener</th>\n      <th>vanila latte</th>\n      <th>berry ade</th>\n      <th>tiramisu</th>\n      <th>merinque cookies</th>\n    </tr>\n  </thead>\n  <tbody>\n    <tr>\n      <th>0</th>\n      <td>2019-07-11 15:35:00</td>\n      <td>23800.0</td>\n      <td>1.0</td>\n      <td>NaN</td>\n      <td>NaN</td>\n      <td>1.0</td>\n      <td>NaN</td>\n      <td>NaN</td>\n      <td>3.0</td>\n      <td>NaN</td>\n      <td>...</td>\n      <td>NaN</td>\n      <td>NaN</td>\n      <td>NaN</td>\n      <td>NaN</td>\n      <td>NaN</td>\n      <td>NaN</td>\n      <td>1.0</td>\n      <td>NaN</td>\n      <td>NaN</td>\n      <td>NaN</td>\n    </tr>\n    <tr>\n      <th>1</th>\n      <td>2019-07-11 16:10:00</td>\n      <td>15800.0</td>\n      <td>1.0</td>\n      <td>NaN</td>\n      <td>NaN</td>\n      <td>NaN</td>\n      <td>NaN</td>\n      <td>NaN</td>\n      <td>1.0</td>\n      <td>NaN</td>\n      <td>...</td>\n      <td>NaN</td>\n      <td>NaN</td>\n      <td>NaN</td>\n      <td>NaN</td>\n      <td>1.0</td>\n      <td>NaN</td>\n      <td>NaN</td>\n      <td>NaN</td>\n      <td>NaN</td>\n      <td>NaN</td>\n    </tr>\n    <tr>\n      <th>2</th>\n      <td>2019-07-12 11:49:00</td>\n      <td>58000.0</td>\n      <td>NaN</td>\n      <td>NaN</td>\n      <td>NaN</td>\n      <td>NaN</td>\n      <td>NaN</td>\n      <td>NaN</td>\n      <td>14.0</td>\n      <td>NaN</td>\n      <td>...</td>\n      <td>NaN</td>\n      <td>NaN</td>\n      <td>NaN</td>\n      <td>NaN</td>\n      <td>NaN</td>\n      <td>NaN</td>\n      <td>NaN</td>\n      <td>NaN</td>\n      <td>NaN</td>\n      <td>NaN</td>\n    </tr>\n    <tr>\n      <th>3</th>\n      <td>2019-07-13 13:19:00</td>\n      <td>14800.0</td>\n      <td>1.0</td>\n      <td>1.0</td>\n      <td>NaN</td>\n      <td>NaN</td>\n      <td>NaN</td>\n      <td>NaN</td>\n      <td>NaN</td>\n      <td>NaN</td>\n      <td>...</td>\n      <td>NaN</td>\n      <td>NaN</td>\n      <td>NaN</td>\n      <td>NaN</td>\n      <td>NaN</td>\n      <td>NaN</td>\n      <td>1.0</td>\n      <td>NaN</td>\n      <td>NaN</td>\n      <td>NaN</td>\n    </tr>\n    <tr>\n      <th>4</th>\n      <td>2019-07-13 13:22:00</td>\n      <td>15600.0</td>\n      <td>2.0</td>\n      <td>NaN</td>\n      <td>NaN</td>\n      <td>NaN</td>\n      <td>NaN</td>\n      <td>NaN</td>\n      <td>1.0</td>\n      <td>NaN</td>\n      <td>...</td>\n      <td>NaN</td>\n      <td>NaN</td>\n      <td>NaN</td>\n      <td>NaN</td>\n      <td>NaN</td>\n      <td>NaN</td>\n      <td>NaN</td>\n      <td>NaN</td>\n      <td>NaN</td>\n      <td>NaN</td>\n    </tr>\n  </tbody>\n</table>\n<p>5 rows × 25 columns</p>\n</div>"
     },
     "execution_count": 5,
     "metadata": {},
     "output_type": "execute_result"
    }
   ],
   "source": [
    "dataDf['datetime'] = pd.to_datetime(dataDf['datetime'], format='%Y-%m-%d')\n",
    "dataDf.head()"
   ],
   "metadata": {
    "collapsed": false
   }
  },
  {
   "cell_type": "markdown",
   "source": [
    "## Count Days of sales"
   ],
   "metadata": {
    "collapsed": false
   }
  },
  {
   "cell_type": "code",
   "execution_count": 6,
   "outputs": [
    {
     "name": "stdout",
     "output_type": "stream",
     "text": [
      "First Date Sales:  2019-07-11 15:35:00\n",
      "Last Date Sales:  2020-05-02 14:45:00\n",
      "Sales days Total:  295\n"
     ]
    }
   ],
   "source": [
    "print(\"First Date Sales: \", dataDf.datetime.min())\n",
    "print(\"Last Date Sales: \", dataDf.datetime.max())\n",
    "delta = dataDf.datetime.max() - dataDf.datetime.min()\n",
    "print(\"Sales days Total: \", delta.days)"
   ],
   "metadata": {
    "collapsed": false
   }
  },
  {
   "cell_type": "markdown",
   "source": [
    "## Fill nan with Zero"
   ],
   "metadata": {
    "collapsed": false
   }
  },
  {
   "cell_type": "code",
   "execution_count": 7,
   "outputs": [
    {
     "data": {
      "text/plain": "                 Kolom  Nan Count\n0             datetime          0\n1                total          0\n2            angbutter        447\n3          plain bread       1563\n4                  jam       2200\n5            americano       2008\n6            croissant       1673\n7          caffe latte       2227\n8   tiramisu croissant       1641\n9           cacao deep       2097\n10    pain au chocolat       1833\n11    almond croissant       2218\n12     croque monsieur       2420\n13          mad garlic       2420\n14            milk tea       2283\n15     gateau chocolat       2224\n16             pandoro       2077\n17         cheese cake       2330\n18           lemon ade       2385\n19        orange pound       1901\n20              wiener       2065\n21        vanila latte       2211\n22           berry ade       2366\n23            tiramisu       2413\n24    merinque cookies       2373",
      "text/html": "<div>\n<style scoped>\n    .dataframe tbody tr th:only-of-type {\n        vertical-align: middle;\n    }\n\n    .dataframe tbody tr th {\n        vertical-align: top;\n    }\n\n    .dataframe thead th {\n        text-align: right;\n    }\n</style>\n<table border=\"1\" class=\"dataframe\">\n  <thead>\n    <tr style=\"text-align: right;\">\n      <th></th>\n      <th>Kolom</th>\n      <th>Nan Count</th>\n    </tr>\n  </thead>\n  <tbody>\n    <tr>\n      <th>0</th>\n      <td>datetime</td>\n      <td>0</td>\n    </tr>\n    <tr>\n      <th>1</th>\n      <td>total</td>\n      <td>0</td>\n    </tr>\n    <tr>\n      <th>2</th>\n      <td>angbutter</td>\n      <td>447</td>\n    </tr>\n    <tr>\n      <th>3</th>\n      <td>plain bread</td>\n      <td>1563</td>\n    </tr>\n    <tr>\n      <th>4</th>\n      <td>jam</td>\n      <td>2200</td>\n    </tr>\n    <tr>\n      <th>5</th>\n      <td>americano</td>\n      <td>2008</td>\n    </tr>\n    <tr>\n      <th>6</th>\n      <td>croissant</td>\n      <td>1673</td>\n    </tr>\n    <tr>\n      <th>7</th>\n      <td>caffe latte</td>\n      <td>2227</td>\n    </tr>\n    <tr>\n      <th>8</th>\n      <td>tiramisu croissant</td>\n      <td>1641</td>\n    </tr>\n    <tr>\n      <th>9</th>\n      <td>cacao deep</td>\n      <td>2097</td>\n    </tr>\n    <tr>\n      <th>10</th>\n      <td>pain au chocolat</td>\n      <td>1833</td>\n    </tr>\n    <tr>\n      <th>11</th>\n      <td>almond croissant</td>\n      <td>2218</td>\n    </tr>\n    <tr>\n      <th>12</th>\n      <td>croque monsieur</td>\n      <td>2420</td>\n    </tr>\n    <tr>\n      <th>13</th>\n      <td>mad garlic</td>\n      <td>2420</td>\n    </tr>\n    <tr>\n      <th>14</th>\n      <td>milk tea</td>\n      <td>2283</td>\n    </tr>\n    <tr>\n      <th>15</th>\n      <td>gateau chocolat</td>\n      <td>2224</td>\n    </tr>\n    <tr>\n      <th>16</th>\n      <td>pandoro</td>\n      <td>2077</td>\n    </tr>\n    <tr>\n      <th>17</th>\n      <td>cheese cake</td>\n      <td>2330</td>\n    </tr>\n    <tr>\n      <th>18</th>\n      <td>lemon ade</td>\n      <td>2385</td>\n    </tr>\n    <tr>\n      <th>19</th>\n      <td>orange pound</td>\n      <td>1901</td>\n    </tr>\n    <tr>\n      <th>20</th>\n      <td>wiener</td>\n      <td>2065</td>\n    </tr>\n    <tr>\n      <th>21</th>\n      <td>vanila latte</td>\n      <td>2211</td>\n    </tr>\n    <tr>\n      <th>22</th>\n      <td>berry ade</td>\n      <td>2366</td>\n    </tr>\n    <tr>\n      <th>23</th>\n      <td>tiramisu</td>\n      <td>2413</td>\n    </tr>\n    <tr>\n      <th>24</th>\n      <td>merinque cookies</td>\n      <td>2373</td>\n    </tr>\n  </tbody>\n</table>\n</div>"
     },
     "execution_count": 7,
     "metadata": {},
     "output_type": "execute_result"
    }
   ],
   "source": [
    "list_nan = []\n",
    "for kolom in dataDf.columns:\n",
    "    list_nan.append(dataDf[kolom].isna().sum())\n",
    "nanPandas = {'Kolom':dataDf.columns, 'Nan Count':list_nan}\n",
    "pd.DataFrame(nanPandas)"
   ],
   "metadata": {
    "collapsed": false
   }
  },
  {
   "cell_type": "code",
   "execution_count": 8,
   "outputs": [
    {
     "name": "stderr",
     "output_type": "stream",
     "text": [
      "C:\\Users\\Overl\\AppData\\Local\\Temp\\ipykernel_9520\\559097776.py:1: SettingWithCopyWarning: \n",
      "A value is trying to be set on a copy of a slice from a DataFrame\n",
      "\n",
      "See the caveats in the documentation: https://pandas.pydata.org/pandas-docs/stable/user_guide/indexing.html#returning-a-view-versus-a-copy\n",
      "  dataDf.fillna(0, inplace=True)\n"
     ]
    },
    {
     "data": {
      "text/plain": "             datetime    total  angbutter  plain bread  jam  americano  \\\n0 2019-07-11 15:35:00  23800.0        1.0          0.0  0.0        1.0   \n1 2019-07-11 16:10:00  15800.0        1.0          0.0  0.0        0.0   \n2 2019-07-12 11:49:00  58000.0        0.0          0.0  0.0        0.0   \n3 2019-07-13 13:19:00  14800.0        1.0          1.0  0.0        0.0   \n4 2019-07-13 13:22:00  15600.0        2.0          0.0  0.0        0.0   \n\n   croissant  caffe latte  tiramisu croissant  cacao deep  ...  \\\n0        0.0          0.0                 3.0         0.0  ...   \n1        0.0          0.0                 1.0         0.0  ...   \n2        0.0          0.0                14.0         0.0  ...   \n3        0.0          0.0                 0.0         0.0  ...   \n4        0.0          0.0                 1.0         0.0  ...   \n\n   gateau chocolat  pandoro  cheese cake  lemon ade  orange pound  wiener  \\\n0              0.0      0.0          0.0        0.0           0.0     0.0   \n1              0.0      0.0          0.0        0.0           1.0     0.0   \n2              0.0      0.0          0.0        0.0           0.0     0.0   \n3              0.0      0.0          0.0        0.0           0.0     0.0   \n4              0.0      0.0          0.0        0.0           0.0     0.0   \n\n   vanila latte  berry ade  tiramisu  merinque cookies  \n0           1.0        0.0       0.0               0.0  \n1           0.0        0.0       0.0               0.0  \n2           0.0        0.0       0.0               0.0  \n3           1.0        0.0       0.0               0.0  \n4           0.0        0.0       0.0               0.0  \n\n[5 rows x 25 columns]",
      "text/html": "<div>\n<style scoped>\n    .dataframe tbody tr th:only-of-type {\n        vertical-align: middle;\n    }\n\n    .dataframe tbody tr th {\n        vertical-align: top;\n    }\n\n    .dataframe thead th {\n        text-align: right;\n    }\n</style>\n<table border=\"1\" class=\"dataframe\">\n  <thead>\n    <tr style=\"text-align: right;\">\n      <th></th>\n      <th>datetime</th>\n      <th>total</th>\n      <th>angbutter</th>\n      <th>plain bread</th>\n      <th>jam</th>\n      <th>americano</th>\n      <th>croissant</th>\n      <th>caffe latte</th>\n      <th>tiramisu croissant</th>\n      <th>cacao deep</th>\n      <th>...</th>\n      <th>gateau chocolat</th>\n      <th>pandoro</th>\n      <th>cheese cake</th>\n      <th>lemon ade</th>\n      <th>orange pound</th>\n      <th>wiener</th>\n      <th>vanila latte</th>\n      <th>berry ade</th>\n      <th>tiramisu</th>\n      <th>merinque cookies</th>\n    </tr>\n  </thead>\n  <tbody>\n    <tr>\n      <th>0</th>\n      <td>2019-07-11 15:35:00</td>\n      <td>23800.0</td>\n      <td>1.0</td>\n      <td>0.0</td>\n      <td>0.0</td>\n      <td>1.0</td>\n      <td>0.0</td>\n      <td>0.0</td>\n      <td>3.0</td>\n      <td>0.0</td>\n      <td>...</td>\n      <td>0.0</td>\n      <td>0.0</td>\n      <td>0.0</td>\n      <td>0.0</td>\n      <td>0.0</td>\n      <td>0.0</td>\n      <td>1.0</td>\n      <td>0.0</td>\n      <td>0.0</td>\n      <td>0.0</td>\n    </tr>\n    <tr>\n      <th>1</th>\n      <td>2019-07-11 16:10:00</td>\n      <td>15800.0</td>\n      <td>1.0</td>\n      <td>0.0</td>\n      <td>0.0</td>\n      <td>0.0</td>\n      <td>0.0</td>\n      <td>0.0</td>\n      <td>1.0</td>\n      <td>0.0</td>\n      <td>...</td>\n      <td>0.0</td>\n      <td>0.0</td>\n      <td>0.0</td>\n      <td>0.0</td>\n      <td>1.0</td>\n      <td>0.0</td>\n      <td>0.0</td>\n      <td>0.0</td>\n      <td>0.0</td>\n      <td>0.0</td>\n    </tr>\n    <tr>\n      <th>2</th>\n      <td>2019-07-12 11:49:00</td>\n      <td>58000.0</td>\n      <td>0.0</td>\n      <td>0.0</td>\n      <td>0.0</td>\n      <td>0.0</td>\n      <td>0.0</td>\n      <td>0.0</td>\n      <td>14.0</td>\n      <td>0.0</td>\n      <td>...</td>\n      <td>0.0</td>\n      <td>0.0</td>\n      <td>0.0</td>\n      <td>0.0</td>\n      <td>0.0</td>\n      <td>0.0</td>\n      <td>0.0</td>\n      <td>0.0</td>\n      <td>0.0</td>\n      <td>0.0</td>\n    </tr>\n    <tr>\n      <th>3</th>\n      <td>2019-07-13 13:19:00</td>\n      <td>14800.0</td>\n      <td>1.0</td>\n      <td>1.0</td>\n      <td>0.0</td>\n      <td>0.0</td>\n      <td>0.0</td>\n      <td>0.0</td>\n      <td>0.0</td>\n      <td>0.0</td>\n      <td>...</td>\n      <td>0.0</td>\n      <td>0.0</td>\n      <td>0.0</td>\n      <td>0.0</td>\n      <td>0.0</td>\n      <td>0.0</td>\n      <td>1.0</td>\n      <td>0.0</td>\n      <td>0.0</td>\n      <td>0.0</td>\n    </tr>\n    <tr>\n      <th>4</th>\n      <td>2019-07-13 13:22:00</td>\n      <td>15600.0</td>\n      <td>2.0</td>\n      <td>0.0</td>\n      <td>0.0</td>\n      <td>0.0</td>\n      <td>0.0</td>\n      <td>0.0</td>\n      <td>1.0</td>\n      <td>0.0</td>\n      <td>...</td>\n      <td>0.0</td>\n      <td>0.0</td>\n      <td>0.0</td>\n      <td>0.0</td>\n      <td>0.0</td>\n      <td>0.0</td>\n      <td>0.0</td>\n      <td>0.0</td>\n      <td>0.0</td>\n      <td>0.0</td>\n    </tr>\n  </tbody>\n</table>\n<p>5 rows × 25 columns</p>\n</div>"
     },
     "execution_count": 8,
     "metadata": {},
     "output_type": "execute_result"
    }
   ],
   "source": [
    "dataDf.fillna(0, inplace=True)\n",
    "dataDf.head()"
   ],
   "metadata": {
    "collapsed": false
   }
  },
  {
   "cell_type": "code",
   "execution_count": 9,
   "outputs": [
    {
     "data": {
      "text/plain": "                 Kolom  Nan Count\n0             datetime          0\n1                total          0\n2            angbutter          0\n3          plain bread          0\n4                  jam          0\n5            americano          0\n6            croissant          0\n7          caffe latte          0\n8   tiramisu croissant          0\n9           cacao deep          0\n10    pain au chocolat          0\n11    almond croissant          0\n12     croque monsieur          0\n13          mad garlic          0\n14            milk tea          0\n15     gateau chocolat          0\n16             pandoro          0\n17         cheese cake          0\n18           lemon ade          0\n19        orange pound          0\n20              wiener          0\n21        vanila latte          0\n22           berry ade          0\n23            tiramisu          0\n24    merinque cookies          0",
      "text/html": "<div>\n<style scoped>\n    .dataframe tbody tr th:only-of-type {\n        vertical-align: middle;\n    }\n\n    .dataframe tbody tr th {\n        vertical-align: top;\n    }\n\n    .dataframe thead th {\n        text-align: right;\n    }\n</style>\n<table border=\"1\" class=\"dataframe\">\n  <thead>\n    <tr style=\"text-align: right;\">\n      <th></th>\n      <th>Kolom</th>\n      <th>Nan Count</th>\n    </tr>\n  </thead>\n  <tbody>\n    <tr>\n      <th>0</th>\n      <td>datetime</td>\n      <td>0</td>\n    </tr>\n    <tr>\n      <th>1</th>\n      <td>total</td>\n      <td>0</td>\n    </tr>\n    <tr>\n      <th>2</th>\n      <td>angbutter</td>\n      <td>0</td>\n    </tr>\n    <tr>\n      <th>3</th>\n      <td>plain bread</td>\n      <td>0</td>\n    </tr>\n    <tr>\n      <th>4</th>\n      <td>jam</td>\n      <td>0</td>\n    </tr>\n    <tr>\n      <th>5</th>\n      <td>americano</td>\n      <td>0</td>\n    </tr>\n    <tr>\n      <th>6</th>\n      <td>croissant</td>\n      <td>0</td>\n    </tr>\n    <tr>\n      <th>7</th>\n      <td>caffe latte</td>\n      <td>0</td>\n    </tr>\n    <tr>\n      <th>8</th>\n      <td>tiramisu croissant</td>\n      <td>0</td>\n    </tr>\n    <tr>\n      <th>9</th>\n      <td>cacao deep</td>\n      <td>0</td>\n    </tr>\n    <tr>\n      <th>10</th>\n      <td>pain au chocolat</td>\n      <td>0</td>\n    </tr>\n    <tr>\n      <th>11</th>\n      <td>almond croissant</td>\n      <td>0</td>\n    </tr>\n    <tr>\n      <th>12</th>\n      <td>croque monsieur</td>\n      <td>0</td>\n    </tr>\n    <tr>\n      <th>13</th>\n      <td>mad garlic</td>\n      <td>0</td>\n    </tr>\n    <tr>\n      <th>14</th>\n      <td>milk tea</td>\n      <td>0</td>\n    </tr>\n    <tr>\n      <th>15</th>\n      <td>gateau chocolat</td>\n      <td>0</td>\n    </tr>\n    <tr>\n      <th>16</th>\n      <td>pandoro</td>\n      <td>0</td>\n    </tr>\n    <tr>\n      <th>17</th>\n      <td>cheese cake</td>\n      <td>0</td>\n    </tr>\n    <tr>\n      <th>18</th>\n      <td>lemon ade</td>\n      <td>0</td>\n    </tr>\n    <tr>\n      <th>19</th>\n      <td>orange pound</td>\n      <td>0</td>\n    </tr>\n    <tr>\n      <th>20</th>\n      <td>wiener</td>\n      <td>0</td>\n    </tr>\n    <tr>\n      <th>21</th>\n      <td>vanila latte</td>\n      <td>0</td>\n    </tr>\n    <tr>\n      <th>22</th>\n      <td>berry ade</td>\n      <td>0</td>\n    </tr>\n    <tr>\n      <th>23</th>\n      <td>tiramisu</td>\n      <td>0</td>\n    </tr>\n    <tr>\n      <th>24</th>\n      <td>merinque cookies</td>\n      <td>0</td>\n    </tr>\n  </tbody>\n</table>\n</div>"
     },
     "execution_count": 9,
     "metadata": {},
     "output_type": "execute_result"
    }
   ],
   "source": [
    "list_nan = []\n",
    "for kolom in dataDf.columns:\n",
    "    list_nan.append(dataDf[kolom].isna().sum())\n",
    "nanPandas = {'Kolom':dataDf.columns, 'Nan Count':list_nan}\n",
    "pd.DataFrame(nanPandas)"
   ],
   "metadata": {
    "collapsed": false
   }
  },
  {
   "cell_type": "markdown",
   "source": [
    "## Change Types Bakery as integer"
   ],
   "metadata": {
    "collapsed": false
   }
  },
  {
   "cell_type": "code",
   "execution_count": 10,
   "outputs": [
    {
     "name": "stderr",
     "output_type": "stream",
     "text": [
      "C:\\Users\\Overl\\AppData\\Local\\Temp\\ipykernel_9520\\3416353464.py:2: SettingWithCopyWarning: \n",
      "A value is trying to be set on a copy of a slice from a DataFrame.\n",
      "Try using .loc[row_indexer,col_indexer] = value instead\n",
      "\n",
      "See the caveats in the documentation: https://pandas.pydata.org/pandas-docs/stable/user_guide/indexing.html#returning-a-view-versus-a-copy\n",
      "  dataDf[kolom] = dataDf[kolom].astype('int')\n"
     ]
    },
    {
     "data": {
      "text/plain": "datetime              datetime64[ns]\ntotal                        float64\nangbutter                      int32\nplain bread                    int32\njam                            int32\namericano                      int32\ncroissant                      int32\ncaffe latte                    int32\ntiramisu croissant             int32\ncacao deep                     int32\npain au chocolat               int32\nalmond croissant               int32\ncroque monsieur                int32\nmad garlic                     int32\nmilk tea                       int32\ngateau chocolat                int32\npandoro                        int32\ncheese cake                    int32\nlemon ade                      int32\norange pound                   int32\nwiener                         int32\nvanila latte                   int32\nberry ade                      int32\ntiramisu                       int32\nmerinque cookies               int32\ndtype: object"
     },
     "execution_count": 10,
     "metadata": {},
     "output_type": "execute_result"
    }
   ],
   "source": [
    "for kolom in dataDf.columns[2:]:\n",
    "    dataDf[kolom] = dataDf[kolom].astype('int')\n",
    "dataDf.dtypes"
   ],
   "metadata": {
    "collapsed": false
   }
  },
  {
   "cell_type": "code",
   "execution_count": 11,
   "outputs": [
    {
     "name": "stderr",
     "output_type": "stream",
     "text": [
      "C:\\Users\\Overl\\AppData\\Local\\Temp\\ipykernel_9520\\409664852.py:1: SettingWithCopyWarning: \n",
      "A value is trying to be set on a copy of a slice from a DataFrame\n",
      "\n",
      "See the caveats in the documentation: https://pandas.pydata.org/pandas-docs/stable/user_guide/indexing.html#returning-a-view-versus-a-copy\n",
      "  dataDf.drop(['croque monsieur', 'mad garlic'], axis=1, inplace=True)\n"
     ]
    },
    {
     "data": {
      "text/plain": "             datetime    total  angbutter  plain bread  jam  americano  \\\n0 2019-07-11 15:35:00  23800.0          1            0    0          1   \n1 2019-07-11 16:10:00  15800.0          1            0    0          0   \n2 2019-07-12 11:49:00  58000.0          0            0    0          0   \n3 2019-07-13 13:19:00  14800.0          1            1    0          0   \n4 2019-07-13 13:22:00  15600.0          2            0    0          0   \n\n   croissant  caffe latte  tiramisu croissant  cacao deep  ...  \\\n0          0            0                   3           0  ...   \n1          0            0                   1           0  ...   \n2          0            0                  14           0  ...   \n3          0            0                   0           0  ...   \n4          0            0                   1           0  ...   \n\n   gateau chocolat  pandoro  cheese cake  lemon ade  orange pound  wiener  \\\n0                0        0            0          0             0       0   \n1                0        0            0          0             1       0   \n2                0        0            0          0             0       0   \n3                0        0            0          0             0       0   \n4                0        0            0          0             0       0   \n\n   vanila latte  berry ade  tiramisu  merinque cookies  \n0             1          0         0                 0  \n1             0          0         0                 0  \n2             0          0         0                 0  \n3             1          0         0                 0  \n4             0          0         0                 0  \n\n[5 rows x 23 columns]",
      "text/html": "<div>\n<style scoped>\n    .dataframe tbody tr th:only-of-type {\n        vertical-align: middle;\n    }\n\n    .dataframe tbody tr th {\n        vertical-align: top;\n    }\n\n    .dataframe thead th {\n        text-align: right;\n    }\n</style>\n<table border=\"1\" class=\"dataframe\">\n  <thead>\n    <tr style=\"text-align: right;\">\n      <th></th>\n      <th>datetime</th>\n      <th>total</th>\n      <th>angbutter</th>\n      <th>plain bread</th>\n      <th>jam</th>\n      <th>americano</th>\n      <th>croissant</th>\n      <th>caffe latte</th>\n      <th>tiramisu croissant</th>\n      <th>cacao deep</th>\n      <th>...</th>\n      <th>gateau chocolat</th>\n      <th>pandoro</th>\n      <th>cheese cake</th>\n      <th>lemon ade</th>\n      <th>orange pound</th>\n      <th>wiener</th>\n      <th>vanila latte</th>\n      <th>berry ade</th>\n      <th>tiramisu</th>\n      <th>merinque cookies</th>\n    </tr>\n  </thead>\n  <tbody>\n    <tr>\n      <th>0</th>\n      <td>2019-07-11 15:35:00</td>\n      <td>23800.0</td>\n      <td>1</td>\n      <td>0</td>\n      <td>0</td>\n      <td>1</td>\n      <td>0</td>\n      <td>0</td>\n      <td>3</td>\n      <td>0</td>\n      <td>...</td>\n      <td>0</td>\n      <td>0</td>\n      <td>0</td>\n      <td>0</td>\n      <td>0</td>\n      <td>0</td>\n      <td>1</td>\n      <td>0</td>\n      <td>0</td>\n      <td>0</td>\n    </tr>\n    <tr>\n      <th>1</th>\n      <td>2019-07-11 16:10:00</td>\n      <td>15800.0</td>\n      <td>1</td>\n      <td>0</td>\n      <td>0</td>\n      <td>0</td>\n      <td>0</td>\n      <td>0</td>\n      <td>1</td>\n      <td>0</td>\n      <td>...</td>\n      <td>0</td>\n      <td>0</td>\n      <td>0</td>\n      <td>0</td>\n      <td>1</td>\n      <td>0</td>\n      <td>0</td>\n      <td>0</td>\n      <td>0</td>\n      <td>0</td>\n    </tr>\n    <tr>\n      <th>2</th>\n      <td>2019-07-12 11:49:00</td>\n      <td>58000.0</td>\n      <td>0</td>\n      <td>0</td>\n      <td>0</td>\n      <td>0</td>\n      <td>0</td>\n      <td>0</td>\n      <td>14</td>\n      <td>0</td>\n      <td>...</td>\n      <td>0</td>\n      <td>0</td>\n      <td>0</td>\n      <td>0</td>\n      <td>0</td>\n      <td>0</td>\n      <td>0</td>\n      <td>0</td>\n      <td>0</td>\n      <td>0</td>\n    </tr>\n    <tr>\n      <th>3</th>\n      <td>2019-07-13 13:19:00</td>\n      <td>14800.0</td>\n      <td>1</td>\n      <td>1</td>\n      <td>0</td>\n      <td>0</td>\n      <td>0</td>\n      <td>0</td>\n      <td>0</td>\n      <td>0</td>\n      <td>...</td>\n      <td>0</td>\n      <td>0</td>\n      <td>0</td>\n      <td>0</td>\n      <td>0</td>\n      <td>0</td>\n      <td>1</td>\n      <td>0</td>\n      <td>0</td>\n      <td>0</td>\n    </tr>\n    <tr>\n      <th>4</th>\n      <td>2019-07-13 13:22:00</td>\n      <td>15600.0</td>\n      <td>2</td>\n      <td>0</td>\n      <td>0</td>\n      <td>0</td>\n      <td>0</td>\n      <td>0</td>\n      <td>1</td>\n      <td>0</td>\n      <td>...</td>\n      <td>0</td>\n      <td>0</td>\n      <td>0</td>\n      <td>0</td>\n      <td>0</td>\n      <td>0</td>\n      <td>0</td>\n      <td>0</td>\n      <td>0</td>\n      <td>0</td>\n    </tr>\n  </tbody>\n</table>\n<p>5 rows × 23 columns</p>\n</div>"
     },
     "execution_count": 11,
     "metadata": {},
     "output_type": "execute_result"
    }
   ],
   "source": [
    "dataDf.drop(['croque monsieur', 'mad garlic'], axis=1, inplace=True)\n",
    "dataDf.head()"
   ],
   "metadata": {
    "collapsed": false
   }
  },
  {
   "cell_type": "markdown",
   "source": [
    "## Calculate Recency"
   ],
   "metadata": {
    "collapsed": false
   }
  },
  {
   "cell_type": "code",
   "execution_count": 12,
   "outputs": [
    {
     "name": "stdout",
     "output_type": "stream",
     "text": [
      "angbutter : 0\n",
      "plain bread : 0\n",
      "jam : 5\n",
      "americano : 0\n",
      "croissant : 0\n",
      "caffe latte : 0\n",
      "tiramisu croissant : 0\n",
      "cacao deep : 0\n",
      "pain au chocolat : 0\n",
      "almond croissant : 1\n",
      "milk tea : 3\n",
      "gateau chocolat : 2\n",
      "pandoro : 2\n",
      "cheese cake : 0\n",
      "lemon ade : 14\n",
      "orange pound : 0\n",
      "wiener : 1\n",
      "vanila latte : 0\n",
      "berry ade : 0\n",
      "tiramisu : 264\n",
      "merinque cookies : 1\n"
     ]
    }
   ],
   "source": [
    "now =  datetime.datetime(2020,5,3)\n",
    "\n",
    "recencyList = []\n",
    "for kolom in dataDf.columns[2:]:\n",
    "    recency = now - dataDf[dataDf[kolom] != 0].datetime.max()\n",
    "    days = recency.days\n",
    "    print(kolom , ':', days)\n",
    "    recencyList.append(days)"
   ],
   "metadata": {
    "collapsed": false
   }
  },
  {
   "cell_type": "markdown",
   "source": [
    "## Calculate Frequency"
   ],
   "metadata": {
    "collapsed": false
   }
  },
  {
   "cell_type": "code",
   "execution_count": 13,
   "outputs": [
    {
     "name": "stdout",
     "output_type": "stream",
     "text": [
      "angbutter : 3229\n",
      "plain bread : 1028\n",
      "jam : 249\n",
      "americano : 513\n",
      "croissant : 1049\n",
      "caffe latte : 214\n",
      "tiramisu croissant : 945\n",
      "cacao deep : 364\n",
      "pain au chocolat : 726\n",
      "almond croissant : 235\n",
      "milk tea : 160\n",
      "gateau chocolat : 210\n",
      "pandoro : 394\n",
      "cheese cake : 92\n",
      "lemon ade : 38\n",
      "orange pound : 566\n",
      "wiener : 476\n",
      "vanila latte : 241\n",
      "berry ade : 55\n",
      "tiramisu : 7\n",
      "merinque cookies : 49\n"
     ]
    }
   ],
   "source": [
    "frequencyList = []\n",
    "for kolom in dataDf.columns[2:]:\n",
    "    frequency = dataDf[kolom].sum()\n",
    "    print(kolom , ':', frequency)\n",
    "    frequencyList.append(frequency)"
   ],
   "metadata": {
    "collapsed": false
   }
  },
  {
   "cell_type": "markdown",
   "source": [
    "## Calculate Monetary"
   ],
   "metadata": {
    "collapsed": false
   }
  },
  {
   "cell_type": "code",
   "execution_count": 14,
   "outputs": [],
   "source": [
    "BakeryPriceDF = pd.read_csv('./Data/Bakery price.csv', sep=',')"
   ],
   "metadata": {
    "collapsed": false
   }
  },
  {
   "cell_type": "code",
   "execution_count": 15,
   "outputs": [],
   "source": [
    "price = BakeryPriceDF[BakeryPriceDF['Name'] != 'delivery fee']\n",
    "dict_price = {}\n",
    "for name, harga in zip(price['Name'].to_list(), price['price'].to_list()):\n",
    "    if (name == 'ice coffe'):\n",
    "        dict_price['americano'] = int(harga)\n",
    "        continue\n",
    "    elif(name == 'ice coffe latter'):\n",
    "        dict_price['caffe latte'] = int(harga)\n",
    "        continue\n",
    "    elif(name == 'ice milk tea'):\n",
    "        dict_price['milk tea'] = int(harga)\n",
    "        continue\n",
    "    elif(name == 'valina latte'):\n",
    "        dict_price['vanila latte'] = int(harga)\n",
    "        continue\n",
    "    dict_price[name] = int(harga)"
   ],
   "metadata": {
    "collapsed": false
   }
  },
  {
   "cell_type": "code",
   "execution_count": 16,
   "outputs": [
    {
     "name": "stdout",
     "output_type": "stream",
     "text": [
      "angbutter : 15499200\n",
      "plain bread : 3598000\n",
      "jam : 373500\n",
      "americano : 2052000\n",
      "croissant : 3671500\n",
      "caffe latte : 963000\n",
      "tiramisu croissant : 4536000\n",
      "cacao deep : 1456000\n",
      "pain au chocolat : 2541000\n",
      "almond croissant : 940000\n",
      "milk tea : 720000\n",
      "gateau chocolat : 840000\n",
      "pandoro : 1773000\n",
      "cheese cake : 460000\n",
      "lemon ade : 171000\n",
      "orange pound : 2547000\n",
      "wiener : 1190000\n",
      "vanila latte : 1084500\n",
      "berry ade : 247500\n",
      "tiramisu : 31500\n",
      "merinque cookies : 196000\n"
     ]
    }
   ],
   "source": [
    "monetaryList = []\n",
    "for kolom in dataDf.columns[2:]:\n",
    "    monetary = dataDf[kolom].sum() * dict_price[kolom]\n",
    "    print(kolom , ':', monetary)\n",
    "    monetaryList.append(monetary)"
   ],
   "metadata": {
    "collapsed": false
   }
  },
  {
   "cell_type": "markdown",
   "source": [
    "## Make RFM Dataframes"
   ],
   "metadata": {
    "collapsed": false
   }
  },
  {
   "cell_type": "code",
   "execution_count": 17,
   "outputs": [
    {
     "data": {
      "text/plain": "           ProductName  Recency  Frequency  Monetary\n0            angbutter        0       3229  15499200\n1          plain bread        0       1028   3598000\n2                  jam        5        249    373500\n3            americano        0        513   2052000\n4            croissant        0       1049   3671500\n5          caffe latte        0        214    963000\n6   tiramisu croissant        0        945   4536000\n7           cacao deep        0        364   1456000\n8     pain au chocolat        0        726   2541000\n9     almond croissant        1        235    940000\n10            milk tea        3        160    720000\n11     gateau chocolat        2        210    840000\n12             pandoro        2        394   1773000\n13         cheese cake        0         92    460000\n14           lemon ade       14         38    171000\n15        orange pound        0        566   2547000\n16              wiener        1        476   1190000\n17        vanila latte        0        241   1084500\n18           berry ade        0         55    247500\n19            tiramisu      264          7     31500\n20    merinque cookies        1         49    196000",
      "text/html": "<div>\n<style scoped>\n    .dataframe tbody tr th:only-of-type {\n        vertical-align: middle;\n    }\n\n    .dataframe tbody tr th {\n        vertical-align: top;\n    }\n\n    .dataframe thead th {\n        text-align: right;\n    }\n</style>\n<table border=\"1\" class=\"dataframe\">\n  <thead>\n    <tr style=\"text-align: right;\">\n      <th></th>\n      <th>ProductName</th>\n      <th>Recency</th>\n      <th>Frequency</th>\n      <th>Monetary</th>\n    </tr>\n  </thead>\n  <tbody>\n    <tr>\n      <th>0</th>\n      <td>angbutter</td>\n      <td>0</td>\n      <td>3229</td>\n      <td>15499200</td>\n    </tr>\n    <tr>\n      <th>1</th>\n      <td>plain bread</td>\n      <td>0</td>\n      <td>1028</td>\n      <td>3598000</td>\n    </tr>\n    <tr>\n      <th>2</th>\n      <td>jam</td>\n      <td>5</td>\n      <td>249</td>\n      <td>373500</td>\n    </tr>\n    <tr>\n      <th>3</th>\n      <td>americano</td>\n      <td>0</td>\n      <td>513</td>\n      <td>2052000</td>\n    </tr>\n    <tr>\n      <th>4</th>\n      <td>croissant</td>\n      <td>0</td>\n      <td>1049</td>\n      <td>3671500</td>\n    </tr>\n    <tr>\n      <th>5</th>\n      <td>caffe latte</td>\n      <td>0</td>\n      <td>214</td>\n      <td>963000</td>\n    </tr>\n    <tr>\n      <th>6</th>\n      <td>tiramisu croissant</td>\n      <td>0</td>\n      <td>945</td>\n      <td>4536000</td>\n    </tr>\n    <tr>\n      <th>7</th>\n      <td>cacao deep</td>\n      <td>0</td>\n      <td>364</td>\n      <td>1456000</td>\n    </tr>\n    <tr>\n      <th>8</th>\n      <td>pain au chocolat</td>\n      <td>0</td>\n      <td>726</td>\n      <td>2541000</td>\n    </tr>\n    <tr>\n      <th>9</th>\n      <td>almond croissant</td>\n      <td>1</td>\n      <td>235</td>\n      <td>940000</td>\n    </tr>\n    <tr>\n      <th>10</th>\n      <td>milk tea</td>\n      <td>3</td>\n      <td>160</td>\n      <td>720000</td>\n    </tr>\n    <tr>\n      <th>11</th>\n      <td>gateau chocolat</td>\n      <td>2</td>\n      <td>210</td>\n      <td>840000</td>\n    </tr>\n    <tr>\n      <th>12</th>\n      <td>pandoro</td>\n      <td>2</td>\n      <td>394</td>\n      <td>1773000</td>\n    </tr>\n    <tr>\n      <th>13</th>\n      <td>cheese cake</td>\n      <td>0</td>\n      <td>92</td>\n      <td>460000</td>\n    </tr>\n    <tr>\n      <th>14</th>\n      <td>lemon ade</td>\n      <td>14</td>\n      <td>38</td>\n      <td>171000</td>\n    </tr>\n    <tr>\n      <th>15</th>\n      <td>orange pound</td>\n      <td>0</td>\n      <td>566</td>\n      <td>2547000</td>\n    </tr>\n    <tr>\n      <th>16</th>\n      <td>wiener</td>\n      <td>1</td>\n      <td>476</td>\n      <td>1190000</td>\n    </tr>\n    <tr>\n      <th>17</th>\n      <td>vanila latte</td>\n      <td>0</td>\n      <td>241</td>\n      <td>1084500</td>\n    </tr>\n    <tr>\n      <th>18</th>\n      <td>berry ade</td>\n      <td>0</td>\n      <td>55</td>\n      <td>247500</td>\n    </tr>\n    <tr>\n      <th>19</th>\n      <td>tiramisu</td>\n      <td>264</td>\n      <td>7</td>\n      <td>31500</td>\n    </tr>\n    <tr>\n      <th>20</th>\n      <td>merinque cookies</td>\n      <td>1</td>\n      <td>49</td>\n      <td>196000</td>\n    </tr>\n  </tbody>\n</table>\n</div>"
     },
     "execution_count": 17,
     "metadata": {},
     "output_type": "execute_result"
    }
   ],
   "source": [
    "ProductList = dataDf.columns[2:]\n",
    "RFM_dict = {\n",
    "    'ProductName': ProductList,\n",
    "    'Recency': recencyList,\n",
    "    'Frequency': frequencyList,\n",
    "    'Monetary': monetaryList\n",
    "}\n",
    "RFM_DF = pd.DataFrame(RFM_dict)\n",
    "RFM_DF"
   ],
   "metadata": {
    "collapsed": false
   }
  },
  {
   "cell_type": "markdown",
   "source": [
    "## Clustering"
   ],
   "metadata": {
    "collapsed": false
   }
  },
  {
   "cell_type": "code",
   "execution_count": 18,
   "outputs": [],
   "source": [
    "import matplotlib.pyplot as plt\n",
    "import sklearn\n",
    "from sklearn.preprocessing import StandardScaler\n",
    "from sklearn.cluster import KMeans\n",
    "from sklearn.metrics import silhouette_score"
   ],
   "metadata": {
    "collapsed": false
   }
  },
  {
   "cell_type": "markdown",
   "source": [
    "### Scaling Data"
   ],
   "metadata": {
    "collapsed": false
   }
  },
  {
   "cell_type": "code",
   "execution_count": 19,
   "outputs": [
    {
     "data": {
      "text/plain": "           0         1         2\n0  -0.249163  3.968669  4.130103\n1  -0.249163  0.748745  0.451399\n2  -0.159873 -0.390883 -0.545306\n3  -0.249163 -0.004667 -0.026475\n4  -0.249163  0.779467  0.474118\n5  -0.249163 -0.442086 -0.363089\n6  -0.249163  0.627321  0.741338\n7  -0.249163 -0.222645 -0.210701\n8  -0.249163  0.306938  0.124676\n9  -0.231305 -0.411364 -0.370199\n10 -0.195589 -0.521084 -0.438202\n11 -0.213447 -0.447937 -0.401109\n12 -0.213447 -0.178757 -0.112715\n13 -0.249163 -0.620564 -0.518568\n14  0.000850 -0.699562 -0.607899\n15 -0.249163  0.072868  0.126531\n16 -0.231305 -0.058796 -0.292923\n17 -0.249163 -0.402586 -0.325533\n18 -0.249163 -0.674692 -0.584253\n19  4.465375 -0.744913 -0.651019\n20 -0.231305 -0.683470 -0.600172",
      "text/html": "<div>\n<style scoped>\n    .dataframe tbody tr th:only-of-type {\n        vertical-align: middle;\n    }\n\n    .dataframe tbody tr th {\n        vertical-align: top;\n    }\n\n    .dataframe thead th {\n        text-align: right;\n    }\n</style>\n<table border=\"1\" class=\"dataframe\">\n  <thead>\n    <tr style=\"text-align: right;\">\n      <th></th>\n      <th>0</th>\n      <th>1</th>\n      <th>2</th>\n    </tr>\n  </thead>\n  <tbody>\n    <tr>\n      <th>0</th>\n      <td>-0.249163</td>\n      <td>3.968669</td>\n      <td>4.130103</td>\n    </tr>\n    <tr>\n      <th>1</th>\n      <td>-0.249163</td>\n      <td>0.748745</td>\n      <td>0.451399</td>\n    </tr>\n    <tr>\n      <th>2</th>\n      <td>-0.159873</td>\n      <td>-0.390883</td>\n      <td>-0.545306</td>\n    </tr>\n    <tr>\n      <th>3</th>\n      <td>-0.249163</td>\n      <td>-0.004667</td>\n      <td>-0.026475</td>\n    </tr>\n    <tr>\n      <th>4</th>\n      <td>-0.249163</td>\n      <td>0.779467</td>\n      <td>0.474118</td>\n    </tr>\n    <tr>\n      <th>5</th>\n      <td>-0.249163</td>\n      <td>-0.442086</td>\n      <td>-0.363089</td>\n    </tr>\n    <tr>\n      <th>6</th>\n      <td>-0.249163</td>\n      <td>0.627321</td>\n      <td>0.741338</td>\n    </tr>\n    <tr>\n      <th>7</th>\n      <td>-0.249163</td>\n      <td>-0.222645</td>\n      <td>-0.210701</td>\n    </tr>\n    <tr>\n      <th>8</th>\n      <td>-0.249163</td>\n      <td>0.306938</td>\n      <td>0.124676</td>\n    </tr>\n    <tr>\n      <th>9</th>\n      <td>-0.231305</td>\n      <td>-0.411364</td>\n      <td>-0.370199</td>\n    </tr>\n    <tr>\n      <th>10</th>\n      <td>-0.195589</td>\n      <td>-0.521084</td>\n      <td>-0.438202</td>\n    </tr>\n    <tr>\n      <th>11</th>\n      <td>-0.213447</td>\n      <td>-0.447937</td>\n      <td>-0.401109</td>\n    </tr>\n    <tr>\n      <th>12</th>\n      <td>-0.213447</td>\n      <td>-0.178757</td>\n      <td>-0.112715</td>\n    </tr>\n    <tr>\n      <th>13</th>\n      <td>-0.249163</td>\n      <td>-0.620564</td>\n      <td>-0.518568</td>\n    </tr>\n    <tr>\n      <th>14</th>\n      <td>0.000850</td>\n      <td>-0.699562</td>\n      <td>-0.607899</td>\n    </tr>\n    <tr>\n      <th>15</th>\n      <td>-0.249163</td>\n      <td>0.072868</td>\n      <td>0.126531</td>\n    </tr>\n    <tr>\n      <th>16</th>\n      <td>-0.231305</td>\n      <td>-0.058796</td>\n      <td>-0.292923</td>\n    </tr>\n    <tr>\n      <th>17</th>\n      <td>-0.249163</td>\n      <td>-0.402586</td>\n      <td>-0.325533</td>\n    </tr>\n    <tr>\n      <th>18</th>\n      <td>-0.249163</td>\n      <td>-0.674692</td>\n      <td>-0.584253</td>\n    </tr>\n    <tr>\n      <th>19</th>\n      <td>4.465375</td>\n      <td>-0.744913</td>\n      <td>-0.651019</td>\n    </tr>\n    <tr>\n      <th>20</th>\n      <td>-0.231305</td>\n      <td>-0.683470</td>\n      <td>-0.600172</td>\n    </tr>\n  </tbody>\n</table>\n</div>"
     },
     "execution_count": 19,
     "metadata": {},
     "output_type": "execute_result"
    }
   ],
   "source": [
    "scaler = StandardScaler()\n",
    "rfm_normalized = RFM_DF[['Recency', 'Frequency', 'Monetary']]\n",
    "rfm_normalized = scaler.fit_transform(rfm_normalized)\n",
    "rfm_normalized = pd.DataFrame(rfm_normalized)\n",
    "rfm_normalized"
   ],
   "metadata": {
    "collapsed": false
   }
  },
  {
   "cell_type": "markdown",
   "source": [
    "### Elbow K-means"
   ],
   "metadata": {
    "collapsed": false
   }
  },
  {
   "cell_type": "code",
   "execution_count": 20,
   "outputs": [],
   "source": [
    "ssd = []\n",
    "for num_cluster in range(1, 10):\n",
    "    kmeans = KMeans(n_clusters=num_cluster, max_iter=50, init='k-means++', n_init='auto')\n",
    "    kmeans.fit(rfm_normalized)\n",
    "\n",
    "    ssd.append(kmeans.inertia_)"
   ],
   "metadata": {
    "collapsed": false
   }
  },
  {
   "cell_type": "code",
   "execution_count": 21,
   "outputs": [
    {
     "data": {
      "text/plain": "Text(0.5, 1.0, 'Elbow')"
     },
     "execution_count": 21,
     "metadata": {},
     "output_type": "execute_result"
    },
    {
     "data": {
      "text/plain": "<Figure size 640x480 with 1 Axes>",
      "image/png": "[encoded data removed]"
     },
     "metadata": {},
     "output_type": "display_data"
    }
   ],
   "source": [
    "plt.figure()\n",
    "plt.plot(range(1,10), ssd)\n",
    "plt.xlabel(\"Cluster\")\n",
    "plt.ylabel(\"Value\")\n",
    "plt.title(\"Elbow\")"
   ],
   "metadata": {
    "collapsed": false
   }
  },
  {
   "cell_type": "markdown",
   "source": [
    "## Train Again with 3 Cluster"
   ],
   "metadata": {
    "collapsed": false
   }
  },
  {
   "cell_type": "code",
   "execution_count": 22,
   "outputs": [
    {
     "data": {
      "text/plain": "KMeans(max_iter=50, n_clusters=3, n_init='auto')",
      "text/html": "<style>#sk-container-id-1 {color: black;background-color: white;}#sk-container-id-1 pre{padding: 0;}#sk-container-id-1 div.sk-toggleable {background-color: white;}#sk-container-id-1 label.sk-toggleable__label {cursor: pointer;display: block;width: 100%;margin-bottom: 0;padding: 0.3em;box-sizing: border-box;text-align: center;}#sk-container-id-1 label.sk-toggleable__label-arrow:before {content: \"▸\";float: left;margin-right: 0.25em;color: #696969;}#sk-container-id-1 label.sk-toggleable__label-arrow:hover:before {color: black;}#sk-container-id-1 div.sk-estimator:hover label.sk-toggleable__label-arrow:before {color: black;}#sk-container-id-1 div.sk-toggleable__content {max-height: 0;max-width: 0;overflow: hidden;text-align: left;background-color: #f0f8ff;}#sk-container-id-1 div.sk-toggleable__content pre {margin: 0.2em;color: black;border-radius: 0.25em;background-color: #f0f8ff;}#sk-container-id-1 input.sk-toggleable__control:checked~div.sk-toggleable__content {max-height: 200px;max-width: 100%;overflow: auto;}#sk-container-id-1 input.sk-toggleable__control:checked~label.sk-toggleable__label-arrow:before {content: \"▾\";}#sk-container-id-1 div.sk-estimator input.sk-toggleable__control:checked~label.sk-toggleable__label {background-color: #d4ebff;}#sk-container-id-1 div.sk-label input.sk-toggleable__control:checked~label.sk-toggleable__label {background-color: #d4ebff;}#sk-container-id-1 input.sk-hidden--visually {border: 0;clip: rect(1px 1px 1px 1px);clip: rect(1px, 1px, 1px, 1px);height: 1px;margin: -1px;overflow: hidden;padding: 0;position: absolute;width: 1px;}#sk-container-id-1 div.sk-estimator {font-family: monospace;background-color: #f0f8ff;border: 1px dotted black;border-radius: 0.25em;box-sizing: border-box;margin-bottom: 0.5em;}#sk-container-id-1 div.sk-estimator:hover {background-color: #d4ebff;}#sk-container-id-1 div.sk-parallel-item::after {content: \"\";width: 100%;border-bottom: 1px solid gray;flex-grow: 1;}#sk-container-id-1 div.sk-label:hover label.sk-toggleable__label {background-color: #d4ebff;}#sk-container-id-1 div.sk-serial::before {content: \"\";position: absolute;border-left: 1px solid gray;box-sizing: border-box;top: 0;bottom: 0;left: 50%;z-index: 0;}#sk-container-id-1 div.sk-serial {display: flex;flex-direction: column;align-items: center;background-color: white;padding-right: 0.2em;padding-left: 0.2em;position: relative;}#sk-container-id-1 div.sk-item {position: relative;z-index: 1;}#sk-container-id-1 div.sk-parallel {display: flex;align-items: stretch;justify-content: center;background-color: white;position: relative;}#sk-container-id-1 div.sk-item::before, #sk-container-id-1 div.sk-parallel-item::before {content: \"\";position: absolute;border-left: 1px solid gray;box-sizing: border-box;top: 0;bottom: 0;left: 50%;z-index: -1;}#sk-container-id-1 div.sk-parallel-item {display: flex;flex-direction: column;z-index: 1;position: relative;background-color: white;}#sk-container-id-1 div.sk-parallel-item:first-child::after {align-self: flex-end;width: 50%;}#sk-container-id-1 div.sk-parallel-item:last-child::after {align-self: flex-start;width: 50%;}#sk-container-id-1 div.sk-parallel-item:only-child::after {width: 0;}#sk-container-id-1 div.sk-dashed-wrapped {border: 1px dashed gray;margin: 0 0.4em 0.5em 0.4em;box-sizing: border-box;padding-bottom: 0.4em;background-color: white;}#sk-container-id-1 div.sk-label label {font-family: monospace;font-weight: bold;display: inline-block;line-height: 1.2em;}#sk-container-id-1 div.sk-label-container {text-align: center;}#sk-container-id-1 div.sk-container {/* jupyter's `normalize.less` sets `[hidden] { display: none; }` but bootstrap.min.css set `[hidden] { display: none !important; }` so we also need the `!important` here to be able to override the default hidden behavior on the sphinx rendered scikit-learn.org. See: https://github.com/scikit-learn/scikit-learn/issues/21755 */display: inline-block !important;position: relative;}#sk-container-id-1 div.sk-text-repr-fallback {display: none;}</style><div id=\"sk-container-id-1\" class=\"sk-top-container\"><div class=\"sk-text-repr-fallback\"><pre>KMeans(max_iter=50, n_clusters=3, n_init=&#x27;auto&#x27;)</pre><b>In a Jupyter environment, please rerun this cell to show the HTML representation or trust the notebook. <br />On GitHub, the HTML representation is unable to render, please try loading this page with nbviewer.org.</b></div><div class=\"sk-container\" hidden><div class=\"sk-item\"><div class=\"sk-estimator sk-toggleable\"><input class=\"sk-toggleable__control sk-hidden--visually\" id=\"sk-estimator-id-1\" type=\"checkbox\" checked><label for=\"sk-estimator-id-1\" class=\"sk-toggleable__label sk-toggleable__label-arrow\">KMeans</label><div class=\"sk-toggleable__content\"><pre>KMeans(max_iter=50, n_clusters=3, n_init=&#x27;auto&#x27;)</pre></div></div></div></div></div>"
     },
     "execution_count": 22,
     "metadata": {},
     "output_type": "execute_result"
    }
   ],
   "source": [
    "kmeans = KMeans(n_clusters=3, max_iter=50, init='k-means++', n_init='auto')\n",
    "kmeans.fit(rfm_normalized)"
   ],
   "metadata": {
    "collapsed": false
   }
  },
  {
   "cell_type": "code",
   "execution_count": 23,
   "outputs": [
    {
     "data": {
      "text/plain": "           0         1         2         ProductName\n0  -0.249163  3.968669  4.130103           angbutter\n1  -0.249163  0.748745  0.451399         plain bread\n2  -0.159873 -0.390883 -0.545306                 jam\n3  -0.249163 -0.004667 -0.026475           americano\n4  -0.249163  0.779467  0.474118           croissant\n5  -0.249163 -0.442086 -0.363089         caffe latte\n6  -0.249163  0.627321  0.741338  tiramisu croissant\n7  -0.249163 -0.222645 -0.210701          cacao deep\n8  -0.249163  0.306938  0.124676    pain au chocolat\n9  -0.231305 -0.411364 -0.370199    almond croissant\n10 -0.195589 -0.521084 -0.438202            milk tea\n11 -0.213447 -0.447937 -0.401109     gateau chocolat\n12 -0.213447 -0.178757 -0.112715             pandoro\n13 -0.249163 -0.620564 -0.518568         cheese cake\n14  0.000850 -0.699562 -0.607899           lemon ade\n15 -0.249163  0.072868  0.126531        orange pound\n16 -0.231305 -0.058796 -0.292923              wiener\n17 -0.249163 -0.402586 -0.325533        vanila latte\n18 -0.249163 -0.674692 -0.584253           berry ade\n19  4.465375 -0.744913 -0.651019            tiramisu\n20 -0.231305 -0.683470 -0.600172    merinque cookies",
      "text/html": "<div>\n<style scoped>\n    .dataframe tbody tr th:only-of-type {\n        vertical-align: middle;\n    }\n\n    .dataframe tbody tr th {\n        vertical-align: top;\n    }\n\n    .dataframe thead th {\n        text-align: right;\n    }\n</style>\n<table border=\"1\" class=\"dataframe\">\n  <thead>\n    <tr style=\"text-align: right;\">\n      <th></th>\n      <th>0</th>\n      <th>1</th>\n      <th>2</th>\n      <th>ProductName</th>\n    </tr>\n  </thead>\n  <tbody>\n    <tr>\n      <th>0</th>\n      <td>-0.249163</td>\n      <td>3.968669</td>\n      <td>4.130103</td>\n      <td>angbutter</td>\n    </tr>\n    <tr>\n      <th>1</th>\n      <td>-0.249163</td>\n      <td>0.748745</td>\n      <td>0.451399</td>\n      <td>plain bread</td>\n    </tr>\n    <tr>\n      <th>2</th>\n      <td>-0.159873</td>\n      <td>-0.390883</td>\n      <td>-0.545306</td>\n      <td>jam</td>\n    </tr>\n    <tr>\n      <th>3</th>\n      <td>-0.249163</td>\n      <td>-0.004667</td>\n      <td>-0.026475</td>\n      <td>americano</td>\n    </tr>\n    <tr>\n      <th>4</th>\n      <td>-0.249163</td>\n      <td>0.779467</td>\n      <td>0.474118</td>\n      <td>croissant</td>\n    </tr>\n    <tr>\n      <th>5</th>\n      <td>-0.249163</td>\n      <td>-0.442086</td>\n      <td>-0.363089</td>\n      <td>caffe latte</td>\n    </tr>\n    <tr>\n      <th>6</th>\n      <td>-0.249163</td>\n      <td>0.627321</td>\n      <td>0.741338</td>\n      <td>tiramisu croissant</td>\n    </tr>\n    <tr>\n      <th>7</th>\n      <td>-0.249163</td>\n      <td>-0.222645</td>\n      <td>-0.210701</td>\n      <td>cacao deep</td>\n    </tr>\n    <tr>\n      <th>8</th>\n      <td>-0.249163</td>\n      <td>0.306938</td>\n      <td>0.124676</td>\n      <td>pain au chocolat</td>\n    </tr>\n    <tr>\n      <th>9</th>\n      <td>-0.231305</td>\n      <td>-0.411364</td>\n      <td>-0.370199</td>\n      <td>almond croissant</td>\n    </tr>\n    <tr>\n      <th>10</th>\n      <td>-0.195589</td>\n      <td>-0.521084</td>\n      <td>-0.438202</td>\n      <td>milk tea</td>\n    </tr>\n    <tr>\n      <th>11</th>\n      <td>-0.213447</td>\n      <td>-0.447937</td>\n      <td>-0.401109</td>\n      <td>gateau chocolat</td>\n    </tr>\n    <tr>\n      <th>12</th>\n      <td>-0.213447</td>\n      <td>-0.178757</td>\n      <td>-0.112715</td>\n      <td>pandoro</td>\n    </tr>\n    <tr>\n      <th>13</th>\n      <td>-0.249163</td>\n      <td>-0.620564</td>\n      <td>-0.518568</td>\n      <td>cheese cake</td>\n    </tr>\n    <tr>\n      <th>14</th>\n      <td>0.000850</td>\n      <td>-0.699562</td>\n      <td>-0.607899</td>\n      <td>lemon ade</td>\n    </tr>\n    <tr>\n      <th>15</th>\n      <td>-0.249163</td>\n      <td>0.072868</td>\n      <td>0.126531</td>\n      <td>orange pound</td>\n    </tr>\n    <tr>\n      <th>16</th>\n      <td>-0.231305</td>\n      <td>-0.058796</td>\n      <td>-0.292923</td>\n      <td>wiener</td>\n    </tr>\n    <tr>\n      <th>17</th>\n      <td>-0.249163</td>\n      <td>-0.402586</td>\n      <td>-0.325533</td>\n      <td>vanila latte</td>\n    </tr>\n    <tr>\n      <th>18</th>\n      <td>-0.249163</td>\n      <td>-0.674692</td>\n      <td>-0.584253</td>\n      <td>berry ade</td>\n    </tr>\n    <tr>\n      <th>19</th>\n      <td>4.465375</td>\n      <td>-0.744913</td>\n      <td>-0.651019</td>\n      <td>tiramisu</td>\n    </tr>\n    <tr>\n      <th>20</th>\n      <td>-0.231305</td>\n      <td>-0.683470</td>\n      <td>-0.600172</td>\n      <td>merinque cookies</td>\n    </tr>\n  </tbody>\n</table>\n</div>"
     },
     "execution_count": 23,
     "metadata": {},
     "output_type": "execute_result"
    }
   ],
   "source": [
    "rfm_normalized.loc[:, 'ProductName'] = RFM_DF['ProductName']\n",
    "rfm_normalized"
   ],
   "metadata": {
    "collapsed": false
   }
  },
  {
   "cell_type": "code",
   "execution_count": 24,
   "outputs": [
    {
     "data": {
      "text/plain": "           0         1         2         ProductName  Cluster\n0  -0.249163  3.968669  4.130103           angbutter        1\n1  -0.249163  0.748745  0.451399         plain bread        0\n2  -0.159873 -0.390883 -0.545306                 jam        0\n3  -0.249163 -0.004667 -0.026475           americano        0\n4  -0.249163  0.779467  0.474118           croissant        0\n5  -0.249163 -0.442086 -0.363089         caffe latte        0\n6  -0.249163  0.627321  0.741338  tiramisu croissant        0\n7  -0.249163 -0.222645 -0.210701          cacao deep        0\n8  -0.249163  0.306938  0.124676    pain au chocolat        0\n9  -0.231305 -0.411364 -0.370199    almond croissant        0\n10 -0.195589 -0.521084 -0.438202            milk tea        0\n11 -0.213447 -0.447937 -0.401109     gateau chocolat        0\n12 -0.213447 -0.178757 -0.112715             pandoro        0\n13 -0.249163 -0.620564 -0.518568         cheese cake        0\n14  0.000850 -0.699562 -0.607899           lemon ade        0\n15 -0.249163  0.072868  0.126531        orange pound        0\n16 -0.231305 -0.058796 -0.292923              wiener        0\n17 -0.249163 -0.402586 -0.325533        vanila latte        0\n18 -0.249163 -0.674692 -0.584253           berry ade        0\n19  4.465375 -0.744913 -0.651019            tiramisu        2\n20 -0.231305 -0.683470 -0.600172    merinque cookies        0",
      "text/html": "<div>\n<style scoped>\n    .dataframe tbody tr th:only-of-type {\n        vertical-align: middle;\n    }\n\n    .dataframe tbody tr th {\n        vertical-align: top;\n    }\n\n    .dataframe thead th {\n        text-align: right;\n    }\n</style>\n<table border=\"1\" class=\"dataframe\">\n  <thead>\n    <tr style=\"text-align: right;\">\n      <th></th>\n      <th>0</th>\n      <th>1</th>\n      <th>2</th>\n      <th>ProductName</th>\n      <th>Cluster</th>\n    </tr>\n  </thead>\n  <tbody>\n    <tr>\n      <th>0</th>\n      <td>-0.249163</td>\n      <td>3.968669</td>\n      <td>4.130103</td>\n      <td>angbutter</td>\n      <td>1</td>\n    </tr>\n    <tr>\n      <th>1</th>\n      <td>-0.249163</td>\n      <td>0.748745</td>\n      <td>0.451399</td>\n      <td>plain bread</td>\n      <td>0</td>\n    </tr>\n    <tr>\n      <th>2</th>\n      <td>-0.159873</td>\n      <td>-0.390883</td>\n      <td>-0.545306</td>\n      <td>jam</td>\n      <td>0</td>\n    </tr>\n    <tr>\n      <th>3</th>\n      <td>-0.249163</td>\n      <td>-0.004667</td>\n      <td>-0.026475</td>\n      <td>americano</td>\n      <td>0</td>\n    </tr>\n    <tr>\n      <th>4</th>\n      <td>-0.249163</td>\n      <td>0.779467</td>\n      <td>0.474118</td>\n      <td>croissant</td>\n      <td>0</td>\n    </tr>\n    <tr>\n      <th>5</th>\n      <td>-0.249163</td>\n      <td>-0.442086</td>\n      <td>-0.363089</td>\n      <td>caffe latte</td>\n      <td>0</td>\n    </tr>\n    <tr>\n      <th>6</th>\n      <td>-0.249163</td>\n      <td>0.627321</td>\n      <td>0.741338</td>\n      <td>tiramisu croissant</td>\n      <td>0</td>\n    </tr>\n    <tr>\n      <th>7</th>\n      <td>-0.249163</td>\n      <td>-0.222645</td>\n      <td>-0.210701</td>\n      <td>cacao deep</td>\n      <td>0</td>\n    </tr>\n    <tr>\n      <th>8</th>\n      <td>-0.249163</td>\n      <td>0.306938</td>\n      <td>0.124676</td>\n      <td>pain au chocolat</td>\n      <td>0</td>\n    </tr>\n    <tr>\n      <th>9</th>\n      <td>-0.231305</td>\n      <td>-0.411364</td>\n      <td>-0.370199</td>\n      <td>almond croissant</td>\n      <td>0</td>\n    </tr>\n    <tr>\n      <th>10</th>\n      <td>-0.195589</td>\n      <td>-0.521084</td>\n      <td>-0.438202</td>\n      <td>milk tea</td>\n      <td>0</td>\n    </tr>\n    <tr>\n      <th>11</th>\n      <td>-0.213447</td>\n      <td>-0.447937</td>\n      <td>-0.401109</td>\n      <td>gateau chocolat</td>\n      <td>0</td>\n    </tr>\n    <tr>\n      <th>12</th>\n      <td>-0.213447</td>\n      <td>-0.178757</td>\n      <td>-0.112715</td>\n      <td>pandoro</td>\n      <td>0</td>\n    </tr>\n    <tr>\n      <th>13</th>\n      <td>-0.249163</td>\n      <td>-0.620564</td>\n      <td>-0.518568</td>\n      <td>cheese cake</td>\n      <td>0</td>\n    </tr>\n    <tr>\n      <th>14</th>\n      <td>0.000850</td>\n      <td>-0.699562</td>\n      <td>-0.607899</td>\n      <td>lemon ade</td>\n      <td>0</td>\n    </tr>\n    <tr>\n      <th>15</th>\n      <td>-0.249163</td>\n      <td>0.072868</td>\n      <td>0.126531</td>\n      <td>orange pound</td>\n      <td>0</td>\n    </tr>\n    <tr>\n      <th>16</th>\n      <td>-0.231305</td>\n      <td>-0.058796</td>\n      <td>-0.292923</td>\n      <td>wiener</td>\n      <td>0</td>\n    </tr>\n    <tr>\n      <th>17</th>\n      <td>-0.249163</td>\n      <td>-0.402586</td>\n      <td>-0.325533</td>\n      <td>vanila latte</td>\n      <td>0</td>\n    </tr>\n    <tr>\n      <th>18</th>\n      <td>-0.249163</td>\n      <td>-0.674692</td>\n      <td>-0.584253</td>\n      <td>berry ade</td>\n      <td>0</td>\n    </tr>\n    <tr>\n      <th>19</th>\n      <td>4.465375</td>\n      <td>-0.744913</td>\n      <td>-0.651019</td>\n      <td>tiramisu</td>\n      <td>2</td>\n    </tr>\n    <tr>\n      <th>20</th>\n      <td>-0.231305</td>\n      <td>-0.683470</td>\n      <td>-0.600172</td>\n      <td>merinque cookies</td>\n      <td>0</td>\n    </tr>\n  </tbody>\n</table>\n</div>"
     },
     "execution_count": 24,
     "metadata": {},
     "output_type": "execute_result"
    }
   ],
   "source": [
    "rfm_normalized['Cluster'] = kmeans.labels_\n",
    "rfm_normalized"
   ],
   "metadata": {
    "collapsed": false
   }
  },
  {
   "cell_type": "markdown",
   "source": [
    "## Plot Recency vs Frequency"
   ],
   "metadata": {
    "collapsed": false
   }
  },
  {
   "cell_type": "code",
   "execution_count": 31,
   "outputs": [
    {
     "data": {
      "text/plain": "<Figure size 640x480 with 1 Axes>",
      "image/png": "[encoded data removed]"
     },
     "metadata": {},
     "output_type": "display_data"
    }
   ],
   "source": [
    "fig = plt.figure()\n",
    "ax = fig.add_subplot(111)\n",
    "centers = kmeans.cluster_centers_\n",
    "plt.scatter(rfm_normalized[rfm_normalized['Cluster']==0][0], rfm_normalized[rfm_normalized['Cluster']==0][1], c='red', label='Class 0')\n",
    "plt.scatter(rfm_normalized[rfm_normalized['Cluster']==1][0], rfm_normalized[rfm_normalized['Cluster']==1][1], c='blue', label='Class 1')\n",
    "plt.scatter(rfm_normalized[rfm_normalized['Cluster']==2][0], rfm_normalized[rfm_normalized['Cluster']==2][1], c='green', label='Class 2')\n",
    "# plt.scatter(rfm_normalized[rfm_normalized['Cluster']==3][0], rfm_normalized[rfm_normalized['Cluster']==3][1], c='magenta', label='Class 4')\n",
    "plt.scatter(centers[:,0], centers[:,1], s=20, c='black', label='Center', marker='+')\n",
    "plt.title('Cluster Products')\n",
    "plt.xlabel('Recency')\n",
    "plt.ylabel('Frequency')\n",
    "plt.legend()\n",
    "plt.show()"
   ],
   "metadata": {
    "collapsed": false
   }
  },
  {
   "cell_type": "markdown",
   "source": [
    "## Plot 3D"
   ],
   "metadata": {
    "collapsed": false
   }
  },
  {
   "cell_type": "code",
   "execution_count": 26,
   "outputs": [
    {
     "data": {
      "text/plain": "<mpl_toolkits.mplot3d.art3d.Path3DCollection at 0x1e55f429690>"
     },
     "execution_count": 26,
     "metadata": {},
     "output_type": "execute_result"
    },
    {
     "data": {
      "text/plain": "<Figure size 640x480 with 1 Axes>",
      "image/png": "[encoded data removed]"
     },
     "metadata": {},
     "output_type": "display_data"
    }
   ],
   "source": [
    "import matplotlib.pyplot as plt\n",
    "import pandas as pd\n",
    "import numpy as np\n",
    "\n",
    "fig = plt.figure()\n",
    "ax = fig.add_subplot(111, projection='3d')\n",
    "x = np.array(rfm_normalized[0])\n",
    "y = np.array(rfm_normalized[1])\n",
    "z = np.array(rfm_normalized[2])\n",
    "\n",
    "ax.scatter(x,y,z, marker=\"s\", c=rfm_normalized['Cluster'], s=40, cmap=\"RdBu\")"
   ],
   "metadata": {
    "collapsed": false
   }
  },
  {
   "cell_type": "markdown",
   "source": [
    "## RFM Clustering Final"
   ],
   "metadata": {
    "collapsed": false
   }
  },
  {
   "cell_type": "code",
   "execution_count": 27,
   "outputs": [
    {
     "data": {
      "text/plain": "           ProductName  Recency  Frequency  Monetary  Cluster\n0            angbutter        0       3229  15499200        1\n1          plain bread        0       1028   3598000        0\n2                  jam        5        249    373500        0\n3            americano        0        513   2052000        0\n4            croissant        0       1049   3671500        0\n5          caffe latte        0        214    963000        0\n6   tiramisu croissant        0        945   4536000        0\n7           cacao deep        0        364   1456000        0\n8     pain au chocolat        0        726   2541000        0\n9     almond croissant        1        235    940000        0\n10            milk tea        3        160    720000        0\n11     gateau chocolat        2        210    840000        0\n12             pandoro        2        394   1773000        0\n13         cheese cake        0         92    460000        0\n14           lemon ade       14         38    171000        0\n15        orange pound        0        566   2547000        0\n16              wiener        1        476   1190000        0\n17        vanila latte        0        241   1084500        0\n18           berry ade        0         55    247500        0\n19            tiramisu      264          7     31500        2\n20    merinque cookies        1         49    196000        0",
      "text/html": "<div>\n<style scoped>\n    .dataframe tbody tr th:only-of-type {\n        vertical-align: middle;\n    }\n\n    .dataframe tbody tr th {\n        vertical-align: top;\n    }\n\n    .dataframe thead th {\n        text-align: right;\n    }\n</style>\n<table border=\"1\" class=\"dataframe\">\n  <thead>\n    <tr style=\"text-align: right;\">\n      <th></th>\n      <th>ProductName</th>\n      <th>Recency</th>\n      <th>Frequency</th>\n      <th>Monetary</th>\n      <th>Cluster</th>\n    </tr>\n  </thead>\n  <tbody>\n    <tr>\n      <th>0</th>\n      <td>angbutter</td>\n      <td>0</td>\n      <td>3229</td>\n      <td>15499200</td>\n      <td>1</td>\n    </tr>\n    <tr>\n      <th>1</th>\n      <td>plain bread</td>\n      <td>0</td>\n      <td>1028</td>\n      <td>3598000</td>\n      <td>0</td>\n    </tr>\n    <tr>\n      <th>2</th>\n      <td>jam</td>\n      <td>5</td>\n      <td>249</td>\n      <td>373500</td>\n      <td>0</td>\n    </tr>\n    <tr>\n      <th>3</th>\n      <td>americano</td>\n      <td>0</td>\n      <td>513</td>\n      <td>2052000</td>\n      <td>0</td>\n    </tr>\n    <tr>\n      <th>4</th>\n      <td>croissant</td>\n      <td>0</td>\n      <td>1049</td>\n      <td>3671500</td>\n      <td>0</td>\n    </tr>\n    <tr>\n      <th>5</th>\n      <td>caffe latte</td>\n      <td>0</td>\n      <td>214</td>\n      <td>963000</td>\n      <td>0</td>\n    </tr>\n    <tr>\n      <th>6</th>\n      <td>tiramisu croissant</td>\n      <td>0</td>\n      <td>945</td>\n      <td>4536000</td>\n      <td>0</td>\n    </tr>\n    <tr>\n      <th>7</th>\n      <td>cacao deep</td>\n      <td>0</td>\n      <td>364</td>\n      <td>1456000</td>\n      <td>0</td>\n    </tr>\n    <tr>\n      <th>8</th>\n      <td>pain au chocolat</td>\n      <td>0</td>\n      <td>726</td>\n      <td>2541000</td>\n      <td>0</td>\n    </tr>\n    <tr>\n      <th>9</th>\n      <td>almond croissant</td>\n      <td>1</td>\n      <td>235</td>\n      <td>940000</td>\n      <td>0</td>\n    </tr>\n    <tr>\n      <th>10</th>\n      <td>milk tea</td>\n      <td>3</td>\n      <td>160</td>\n      <td>720000</td>\n      <td>0</td>\n    </tr>\n    <tr>\n      <th>11</th>\n      <td>gateau chocolat</td>\n      <td>2</td>\n      <td>210</td>\n      <td>840000</td>\n      <td>0</td>\n    </tr>\n    <tr>\n      <th>12</th>\n      <td>pandoro</td>\n      <td>2</td>\n      <td>394</td>\n      <td>1773000</td>\n      <td>0</td>\n    </tr>\n    <tr>\n      <th>13</th>\n      <td>cheese cake</td>\n      <td>0</td>\n      <td>92</td>\n      <td>460000</td>\n      <td>0</td>\n    </tr>\n    <tr>\n      <th>14</th>\n      <td>lemon ade</td>\n      <td>14</td>\n      <td>38</td>\n      <td>171000</td>\n      <td>0</td>\n    </tr>\n    <tr>\n      <th>15</th>\n      <td>orange pound</td>\n      <td>0</td>\n      <td>566</td>\n      <td>2547000</td>\n      <td>0</td>\n    </tr>\n    <tr>\n      <th>16</th>\n      <td>wiener</td>\n      <td>1</td>\n      <td>476</td>\n      <td>1190000</td>\n      <td>0</td>\n    </tr>\n    <tr>\n      <th>17</th>\n      <td>vanila latte</td>\n      <td>0</td>\n      <td>241</td>\n      <td>1084500</td>\n      <td>0</td>\n    </tr>\n    <tr>\n      <th>18</th>\n      <td>berry ade</td>\n      <td>0</td>\n      <td>55</td>\n      <td>247500</td>\n      <td>0</td>\n    </tr>\n    <tr>\n      <th>19</th>\n      <td>tiramisu</td>\n      <td>264</td>\n      <td>7</td>\n      <td>31500</td>\n      <td>2</td>\n    </tr>\n    <tr>\n      <th>20</th>\n      <td>merinque cookies</td>\n      <td>1</td>\n      <td>49</td>\n      <td>196000</td>\n      <td>0</td>\n    </tr>\n  </tbody>\n</table>\n</div>"
     },
     "execution_count": 27,
     "metadata": {},
     "output_type": "execute_result"
    }
   ],
   "source": [
    "RFM_DF['Cluster'] = kmeans.labels_\n",
    "RFM_DF"
   ],
   "metadata": {
    "collapsed": false
   }
  },
  {
   "cell_type": "code",
   "execution_count": 27,
   "outputs": [],
   "source": [],
   "metadata": {
    "collapsed": false
   }
  }
 ],
 "metadata": {
  "kernelspec": {
   "display_name": "Python 3",
   "language": "python",
   "name": "python3"
  },
  "language_info": {
   "codemirror_mode": {
    "name": "ipython",
    "version": 2
   },
   "file_extension": ".py",
   "mimetype": "text/x-python",
   "name": "python",
   "nbconvert_exporter": "python",
   "pygments_lexer": "ipython2",
   "version": "2.7.6"
  }
 },
 "nbformat": 4,
 "nbformat_minor": 0
}
